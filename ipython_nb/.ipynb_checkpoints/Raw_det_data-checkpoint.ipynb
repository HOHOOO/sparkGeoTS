{
 "cells": [
  {
   "cell_type": "code",
   "execution_count": 1,
   "metadata": {
    "collapsed": false
   },
   "outputs": [],
   "source": [
    "import pandas as pd\n",
    "import numpy as np\n",
    "from matplotlib import pyplot as plt\n",
    "from datetime import datetime\n",
    "%matplotlib inline\n",
    "\n",
    "\n",
    "dtypes = {'Timestamp': datetime,\n",
    "          'Station ID': str,\n",
    "          'Lane 1 Flow': np.float,\n",
    "          'Lane 1 Occupancy': np.float,\n",
    "          'Lane 2 Flow': np.float,\n",
    "          'Lane 2 Occupancy': np.float,\n",
    "          'Lane 3 Flow': np.float,\n",
    "          'Lane 3 Occupancy': np.float,\n",
    "          'Lane 4 Flow': np.float,\n",
    "          'Lane 4 Occupancy': np.float,\n",
    "          'Lane 5 Flow': np.float,\n",
    "          'Lane 5 Occupancy': np.float,\n",
    "          'Lane 6 Flow': np.float,\n",
    "          'Lane 6 Occupancy': np.float,\n",
    "          'Lane 7 Flow': np.float,\n",
    "          'Lane 7 Occupancy': np.float,\n",
    "          'Lane 8 Flow': np.float,\n",
    "          'Lane 8 Occupancy': np.float}"
   ]
  },
  {
   "cell_type": "code",
   "execution_count": 2,
   "metadata": {
    "collapsed": false,
    "scrolled": true
   },
   "outputs": [
    {
     "name": "stderr",
     "output_type": "stream",
     "text": [
      "/usr/local/lib/python2.7/site-packages/pandas-0.16.2-py2.7-macosx-10.10-x86_64.egg/pandas/io/parsers.py:1170: DtypeWarning: Columns (1,2,3,4,5,6,7,8,9,10,11,12,13,14,15,16,17) have mixed types. Specify dtype option on import or set low_memory=False.\n",
      "  data = self._reader.read(nrows)\n"
     ]
    }
   ],
   "source": [
    "raw_data = pd.read_csv(\"../resources/Freeways-Rawaa.csv\", header =1, dtype = dtypes, names = dtypes.keys())"
   ]
  },
  {
   "cell_type": "code",
   "execution_count": 4,
   "metadata": {
    "collapsed": false
   },
   "outputs": [
    {
     "name": "stdout",
     "output_type": "stream",
     "text": [
      "        01/01/2010 00:00:00   1118695  Unnamed: 2  Unnamed: 3  Unnamed: 4  \\\n",
      "count              39969484  39969484    39129123    22296330    34459569   \n",
      "unique                87663      2323         113        1193         124   \n",
      "top     01/12/2010 06:40:30   1118663           0           0           0   \n",
      "freq                   1155     34651    14505021     5367933     9770172   \n",
      "\n",
      "        Unnamed: 5  Unnamed: 6  Unnamed: 7  Unnamed: 8  Unnamed: 9  \\\n",
      "count     21783593    20488307    18748159    15729494    15659545   \n",
      "unique        1174         104        1192         123        1211   \n",
      "top              0           0           0           0           0   \n",
      "freq       2576236     2823021     1820240     2006419     1736427   \n",
      "\n",
      "        Unnamed: 10  Unnamed: 11  Unnamed: 12  Unnamed: 13  Unnamed: 14  \\\n",
      "count       5377065      5377065      1107236      1107236           12   \n",
      "unique           78         1122           51          851            1   \n",
      "top               0            0            0            0  Lane 7 Flow   \n",
      "freq        1075714       992234       223743       194044           12   \n",
      "\n",
      "             Unnamed: 15  Unnamed: 16       Unnamed: 17  \n",
      "count                 12           12                12  \n",
      "unique                 1            1                 1  \n",
      "top     Lane 7 Occupancy  Lane 8 Flow  Lane 8 Occupancy  \n",
      "freq                  12           12                12  \n"
     ]
    }
   ],
   "source": [
    "print raw_data.describe()"
   ]
  },
  {
   "cell_type": "code",
   "execution_count": null,
   "metadata": {
    "collapsed": true
   },
   "outputs": [],
   "source": []
  }
 ],
 "metadata": {
  "kernelspec": {
   "display_name": "Python 2",
   "language": "python",
   "name": "python2"
  },
  "language_info": {
   "codemirror_mode": {
    "name": "ipython",
    "version": 2
   },
   "file_extension": ".py",
   "mimetype": "text/x-python",
   "name": "python",
   "nbconvert_exporter": "python",
   "pygments_lexer": "ipython2",
   "version": "2.7.9"
  }
 },
 "nbformat": 4,
 "nbformat_minor": 0
}

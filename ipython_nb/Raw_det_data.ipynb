{
 "cells": [
  {
   "cell_type": "code",
   "execution_count": null,
   "metadata": {
    "collapsed": false
   },
   "outputs": [],
   "source": [
    "import pandas as pd\n",
    "import numpy as np\n",
    "from matplotlib import pyplot as plt\n",
    "from datetime import datetime\n",
    "%matplotlib inline\n",
    "\n",
    "\n",
    "dtypes = {'Timestamp': datetime,\n",
    "          'Station ID': str,\n",
    "          'Lane 1 Flow': np.float,\n",
    "          'Lane 1 Occupancy': np.float,\n",
    "          'Lane 2 Flow': np.float,\n",
    "          'Lane 2 Occupancy': np.float,\n",
    "          'Lane 3 Flow': np.float,\n",
    "          'Lane 3 Occupancy': np.float,\n",
    "          'Lane 4 Flow': np.float,\n",
    "          'Lane 4 Occupancy': np.float,\n",
    "          'Lane 5 Flow': np.float,\n",
    "          'Lane 5 Occupancy': np.float,\n",
    "          'Lane 6 Flow': np.float,\n",
    "          'Lane 6 Occupancy': np.float,\n",
    "          'Lane 7 Flow': np.float,\n",
    "          'Lane 7 Occupancy': np.float,\n",
    "          'Lane 8 Flow': np.float,\n",
    "          'Lane 8 Occupancy': np.float}"
   ]
  },
  {
   "cell_type": "code",
   "execution_count": null,
   "metadata": {
    "collapsed": false,
    "scrolled": true
   },
   "outputs": [],
   "source": [
    "raw_data = pd.read_csv(\"../resources/Freeways-Rawaa.csv\", header =1, dtype = dtypes, names = dtypes.keys())"
   ]
  },
  {
   "cell_type": "code",
   "execution_count": null,
   "metadata": {
    "collapsed": false
   },
   "outputs": [],
   "source": [
    "print raw_data.describe()"
   ]
  },
  {
   "cell_type": "code",
   "execution_count": null,
   "metadata": {
    "collapsed": true
   },
   "outputs": [],
   "source": []
  }
 ],
 "metadata": {
  "kernelspec": {
   "display_name": "Python 2",
   "language": "python",
   "name": "python2"
  },
  "language_info": {
   "codemirror_mode": {
    "name": "ipython",
    "version": 2
   },
   "file_extension": ".py",
   "mimetype": "text/x-python",
   "name": "python",
   "nbconvert_exporter": "python",
   "pygments_lexer": "ipython2",
   "version": "2.7.9"
  }
 },
 "nbformat": 4,
 "nbformat_minor": 0
}
